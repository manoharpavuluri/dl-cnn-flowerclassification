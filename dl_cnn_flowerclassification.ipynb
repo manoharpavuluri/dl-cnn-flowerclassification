{
  "nbformat": 4,
  "nbformat_minor": 0,
  "metadata": {
    "colab": {
      "provenance": [],
      "gpuType": "T4",
      "authorship_tag": "ABX9TyOeBf4X2NDVMAXYXu/2BOGo",
      "include_colab_link": true
    },
    "kernelspec": {
      "name": "python3",
      "display_name": "Python 3"
    },
    "language_info": {
      "name": "python"
    },
    "accelerator": "GPU"
  },
  "cells": [
    {
      "cell_type": "markdown",
      "metadata": {
        "id": "view-in-github",
        "colab_type": "text"
      },
      "source": [
        "<a href=\"https://colab.research.google.com/github/manoharpavuluri/dl-cnn-flowerclassification/blob/main/dl_cnn_flowerclassification.ipynb\" target=\"_parent\"><img src=\"https://colab.research.google.com/assets/colab-badge.svg\" alt=\"Open In Colab\"/></a>"
      ]
    },
    {
      "cell_type": "code",
      "execution_count": 1,
      "metadata": {
        "id": "cTc77nv3y_H8"
      },
      "outputs": [],
      "source": [
        "import matplotlib.pyplot as plt\n",
        "import numpy as np\n",
        "import cv2\n",
        "import os\n",
        "import PIL # if you want to see image\n",
        "import tensorflow as tf\n",
        "\n",
        "from tensorflow import keras\n",
        "from tensorflow.keras import layers\n",
        "from tensorflow.keras.models import Sequential"
      ]
    },
    {
      "cell_type": "code",
      "source": [
        "# below we will use get_file function which takes following arguemens. flower_photos is the directory where the photos will be stored. cache_dir,\n",
        "#     is where flower_photos needs to be stored, '.' specifying same directory as where this python file is.\n",
        "dataset_url = \"https://storage.googleapis.com/download.tensorflow.org/example_images/flower_photos.tgz\"\n",
        "data_dir = tf.keras.utils.get_file('flower_photos', origin=dataset_url, cache_dir='.', untar=True)"
      ],
      "metadata": {
        "colab": {
          "base_uri": "https://localhost:8080/"
        },
        "id": "7gHQzcJSz7Xy",
        "outputId": "bf1ee0c5-b7e8-4732-f50a-d9c2340103f1"
      },
      "execution_count": 2,
      "outputs": [
        {
          "output_type": "stream",
          "name": "stdout",
          "text": [
            "Downloading data from https://storage.googleapis.com/download.tensorflow.org/example_images/flower_photos.tgz\n",
            "228813984/228813984 [==============================] - 6s 0us/step\n"
          ]
        }
      ]
    },
    {
      "cell_type": "code",
      "source": [
        "data_dir"
      ],
      "metadata": {
        "colab": {
          "base_uri": "https://localhost:8080/",
          "height": 35
        },
        "id": "WHbRKZhg36hM",
        "outputId": "2d94caec-c087-4c82-aea0-a9e86ffc8f29"
      },
      "execution_count": 3,
      "outputs": [
        {
          "output_type": "execute_result",
          "data": {
            "text/plain": [
              "'./datasets/flower_photos'"
            ],
            "application/vnd.google.colaboratory.intrinsic+json": {
              "type": "string"
            }
          },
          "metadata": {},
          "execution_count": 3
        }
      ]
    },
    {
      "cell_type": "code",
      "source": [
        "# lets see if it has jpg files\n",
        "list(data_dir.glob('*/*.jpg'))"
      ],
      "metadata": {
        "colab": {
          "base_uri": "https://localhost:8080/",
          "height": 197
        },
        "id": "LrvHoadj-158",
        "outputId": "822a8221-fdb0-4b8d-a238-b31473b0d643"
      },
      "execution_count": 4,
      "outputs": [
        {
          "output_type": "error",
          "ename": "AttributeError",
          "evalue": "'str' object has no attribute 'glob'",
          "traceback": [
            "\u001b[0;31m---------------------------------------------------------------------------\u001b[0m",
            "\u001b[0;31mAttributeError\u001b[0m                            Traceback (most recent call last)",
            "\u001b[0;32m<ipython-input-4-5ae717d26197>\u001b[0m in \u001b[0;36m<cell line: 2>\u001b[0;34m()\u001b[0m\n\u001b[1;32m      1\u001b[0m \u001b[0;31m# lets see if it has jpg files\u001b[0m\u001b[0;34m\u001b[0m\u001b[0;34m\u001b[0m\u001b[0m\n\u001b[0;32m----> 2\u001b[0;31m \u001b[0mlist\u001b[0m\u001b[0;34m(\u001b[0m\u001b[0mdata_dir\u001b[0m\u001b[0;34m.\u001b[0m\u001b[0mglob\u001b[0m\u001b[0;34m(\u001b[0m\u001b[0;34m'*/*.jpg'\u001b[0m\u001b[0;34m)\u001b[0m\u001b[0;34m)\u001b[0m\u001b[0;34m\u001b[0m\u001b[0;34m\u001b[0m\u001b[0m\n\u001b[0m",
            "\u001b[0;31mAttributeError\u001b[0m: 'str' object has no attribute 'glob'"
          ]
        }
      ]
    },
    {
      "cell_type": "code",
      "source": [
        "# in order to see and play with the files in the directory, we need to import pathlib library\n",
        "import pathlib\n",
        "data_dir = pathlib.Path(data_dir)\n",
        "data_dir"
      ],
      "metadata": {
        "colab": {
          "base_uri": "https://localhost:8080/"
        },
        "id": "3XjaHizz5Ig6",
        "outputId": "5c22bda3-a430-46d4-db15-12cea3579081"
      },
      "execution_count": 6,
      "outputs": [
        {
          "output_type": "execute_result",
          "data": {
            "text/plain": [
              "PosixPath('datasets/flower_photos')"
            ]
          },
          "metadata": {},
          "execution_count": 6
        }
      ]
    },
    {
      "cell_type": "code",
      "source": [
        "from prettytable import PrettyTable\n",
        "\n",
        "def get_folder_extension_counts(directory):\n",
        "    folder_extension_counts = {}\n",
        "\n",
        "    for root, dirs, files in os.walk(directory):\n",
        "        folder_name = os.path.basename(root)\n",
        "        folder_extension_counts[folder_name] = {'extensions': set(), 'counts': {}}\n",
        "\n",
        "        for file in files:\n",
        "            _, extension = os.path.splitext(file)\n",
        "            extension = extension.lower()  # Convert to lowercase for case-insensitive comparison\n",
        "\n",
        "            # Update the counts and extensions for the current folder\n",
        "            folder_extension_counts[folder_name]['extensions'].add(extension)\n",
        "            folder_extension_counts[folder_name]['counts'][extension] = folder_extension_counts[folder_name]['counts'].get(extension, 0) + 1\n",
        "\n",
        "    return folder_extension_counts\n",
        "\n",
        "def display_table(folder_extension_counts):\n",
        "    table = PrettyTable()\n",
        "    table.field_names = [\"Subfolder Name\", \"Extension\", \"Count of Files\"]\n",
        "\n",
        "    for folder, data in folder_extension_counts.items():\n",
        "        for extension, count in data['counts'].items():\n",
        "            table.add_row([folder, extension, count])\n",
        "\n",
        "    print(table)\n",
        "\n",
        "# Example usage:\n",
        "directory_path = 'datasets/flower_photos'\n",
        "folder_extension_counts = get_folder_extension_counts(directory_path)\n",
        "\n",
        "display_table(folder_extension_counts)\n"
      ],
      "metadata": {
        "colab": {
          "base_uri": "https://localhost:8080/"
        },
        "id": "KQSzWbCA-p5C",
        "outputId": "61a27864-c4ab-4100-fc37-01049ea26148"
      },
      "execution_count": 7,
      "outputs": [
        {
          "output_type": "stream",
          "name": "stdout",
          "text": [
            "+----------------+-----------+----------------+\n",
            "| Subfolder Name | Extension | Count of Files |\n",
            "+----------------+-----------+----------------+\n",
            "| flower_photos  |    .txt   |       1        |\n",
            "|     roses      |    .jpg   |      641       |\n",
            "|   sunflowers   |    .jpg   |      699       |\n",
            "|     daisy      |    .jpg   |      633       |\n",
            "|   dandelion    |    .jpg   |      898       |\n",
            "|     tulips     |    .jpg   |      799       |\n",
            "+----------------+-----------+----------------+\n"
          ]
        }
      ]
    },
    {
      "cell_type": "code",
      "source": [
        "image_count = len(list(data_dir.glob('*/*.jpg')))\n",
        "image_count"
      ],
      "metadata": {
        "colab": {
          "base_uri": "https://localhost:8080/"
        },
        "id": "whTpbkUWFaOs",
        "outputId": "a50cc9ec-e923-423e-d549-c065a454fc86"
      },
      "execution_count": 8,
      "outputs": [
        {
          "output_type": "execute_result",
          "data": {
            "text/plain": [
              "3670"
            ]
          },
          "metadata": {},
          "execution_count": 8
        }
      ]
    },
    {
      "cell_type": "code",
      "source": [
        "roses = list(data_dir.glob('roses/*.jpg'))\n",
        "roses[:5]"
      ],
      "metadata": {
        "colab": {
          "base_uri": "https://localhost:8080/"
        },
        "id": "RFp54A-cG2Ho",
        "outputId": "23a5bc74-1803-4f52-b176-1953fda1e14e"
      },
      "execution_count": 9,
      "outputs": [
        {
          "output_type": "execute_result",
          "data": {
            "text/plain": [
              "[PosixPath('datasets/flower_photos/roses/2059172936_032ffc12aa.jpg'),\n",
              " PosixPath('datasets/flower_photos/roses/18376177250_86060cbdc9.jpg'),\n",
              " PosixPath('datasets/flower_photos/roses/4575042086_7674b76297_n.jpg'),\n",
              " PosixPath('datasets/flower_photos/roses/8388497874_1fe750cc95_m.jpg'),\n",
              " PosixPath('datasets/flower_photos/roses/14687731322_5613f76353.jpg')]"
            ]
          },
          "metadata": {},
          "execution_count": 9
        }
      ]
    },
    {
      "cell_type": "code",
      "source": [
        "#if you want to see a image, use PIL lib\n",
        "\n",
        "PIL.Image.open(str(roses[5]))\n",
        "\n"
      ],
      "metadata": {
        "colab": {
          "base_uri": "https://localhost:8080/",
          "height": 257
        },
        "id": "kfUHBGOIHqXn",
        "outputId": "83b6c7c0-63ca-483c-c4db-a6c6a7d2442f"
      },
      "execution_count": 10,
      "outputs": [
        {
          "output_type": "execute_result",
          "data": {
            "text/plain": [
              "<PIL.JpegImagePlugin.JpegImageFile image mode=RGB size=240x240>"
            ],
            "image/png": "[encoded data removed]"
          },
          "metadata": {},
          "execution_count": 10
        }
      ]
    },
    {
      "cell_type": "code",
      "source": [
        "flowers_images_dict = {\n",
        "    'roses' : list(data_dir.glob('roses/*')),\n",
        "    'tulips' : list(data_dir.glob('tulips/*')),\n",
        "    'sunflowers' : list(data_dir.glob('sunflowers/*')),\n",
        "    'dandelion' : list(data_dir.glob('dandelion/*')),\n",
        "    'daisy' : list(data_dir.glob('daisy/*'))\n",
        "}"
      ],
      "metadata": {
        "id": "jnDCbzYnISA8"
      },
      "execution_count": 35,
      "outputs": []
    },
    {
      "cell_type": "code",
      "source": [
        "flowers_images_dict['roses']"
      ],
      "metadata": {
        "colab": {
          "base_uri": "https://localhost:8080/"
        },
        "id": "u0XcxiZEERiD",
        "outputId": "3c2cb786-a2ce-42c8-e36e-6592c34713db"
      },
      "execution_count": 36,
      "outputs": [
        {
          "output_type": "execute_result",
          "data": {
            "text/plain": [
              "[PosixPath('datasets/flower_photos/roses/2059172936_032ffc12aa.jpg'),\n",
              " PosixPath('datasets/flower_photos/roses/18376177250_86060cbdc9.jpg'),\n",
              " PosixPath('datasets/flower_photos/roses/4575042086_7674b76297_n.jpg'),\n",
              " PosixPath('datasets/flower_photos/roses/8388497874_1fe750cc95_m.jpg'),\n",
              " PosixPath('datasets/flower_photos/roses/14687731322_5613f76353.jpg'),\n",
              " PosixPath('datasets/flower_photos/roses/8036594516_69a7da5f73_m.jpg'),\n",
              " PosixPath('datasets/flower_photos/roses/3292654244_4a220ab96f_m.jpg'),\n",
              " PosixPath('datasets/flower_photos/roses/3208417632_19138d8e35_n.jpg'),\n",
              " PosixPath('datasets/flower_photos/roses/5526964611_76ef13025c_n.jpg'),\n",
              " PosixPath('datasets/flower_photos/roses/4553266758_09d4dbdac9_n.jpg'),\n",
              " PosixPath('datasets/flower_photos/roses/3526860692_4c551191b1_m.jpg'),\n",
              " PosixPath('datasets/flower_photos/roses/4360743371_6238b36d8c_m.jpg'),\n",
              " PosixPath('datasets/flower_photos/roses/22982871191_ec61e36939_n.jpg'),\n",
              " PosixPath('datasets/flower_photos/roses/3102535578_ec8c12a7b6_m.jpg'),\n",
              " PosixPath('datasets/flower_photos/roses/3415176946_248afe9f32.jpg'),\n",
              " PosixPath('datasets/flower_photos/roses/4764674741_82b8f93359_n.jpg'),\n",
              " PosixPath('datasets/flower_photos/roses/5360769702_ec28c53b9e_n.jpg'),\n",
              " PosixPath('datasets/flower_photos/roses/23232710191_cc57620cd5.jpg'),\n",
              " PosixPath('datasets/flower_photos/roses/505517255_cfbb6f6394.jpg'),\n",
              " PosixPath('datasets/flower_photos/roses/2364976562_a184463083_m.jpg'),\n",
              " PosixPath('datasets/flower_photos/roses/14176042519_5792b37555.jpg'),\n",
              " PosixPath('datasets/flower_photos/roses/475947979_554062a608_m.jpg'),\n",
              " PosixPath('datasets/flower_photos/roses/13342823005_16d3df58df_n.jpg'),\n",
              " PosixPath('datasets/flower_photos/roses/4723876257_d87b781986.jpg'),\n",
              " PosixPath('datasets/flower_photos/roses/4979895172_ca06eba616.jpg'),\n",
              " PosixPath('datasets/flower_photos/roses/7820626638_3e2d712303.jpg'),\n",
              " PosixPath('datasets/flower_photos/roses/3634244527_e72c47842c_n.jpg'),\n",
              " PosixPath('datasets/flower_photos/roses/5060519573_c628547e20_n.jpg'),\n",
              " PosixPath('datasets/flower_photos/roses/16078501836_3ac067e18a.jpg'),\n",
              " PosixPath('datasets/flower_photos/roses/160954292_6c2b4fda65_n.jpg'),\n",
              " PosixPath('datasets/flower_photos/roses/4279989256_9a48c0d194_n.jpg'),\n",
              " PosixPath('datasets/flower_photos/roses/145862135_ab710de93c_n.jpg'),\n",
              " PosixPath('datasets/flower_photos/roses/6039330368_c30ed224c4_m.jpg'),\n",
              " PosixPath('datasets/flower_photos/roses/6950609394_c53b8c6ac0_m.jpg'),\n",
              " PosixPath('datasets/flower_photos/roses/6016195304_75306bb79a.jpg'),\n",
              " PosixPath('datasets/flower_photos/roses/2951375433_ae2726d9d2_m.jpg'),\n",
              " PosixPath('datasets/flower_photos/roses/4608559939_3487bf3b62_n.jpg'),\n",
              " PosixPath('datasets/flower_photos/roses/14494590921_3bb1dc7b88_n.jpg'),\n",
              " PosixPath('datasets/flower_photos/roses/4363734507_5cc4ed6e01.jpg'),\n",
              " PosixPath('datasets/flower_photos/roses/6690926183_afedba9f15_n.jpg'),\n",
              " PosixPath('datasets/flower_photos/roses/5402157745_a384f0583d_n.jpg'),\n",
              " PosixPath('datasets/flower_photos/roses/3753920123_c7ebc18ee3.jpg'),\n",
              " PosixPath('datasets/flower_photos/roses/8642943283_47e44d049d_m.jpg'),\n",
              " PosixPath('datasets/flower_photos/roses/298670754_f25edda891.jpg'),\n",
              " PosixPath('datasets/flower_photos/roses/11233672494_d8bf0a3dbf_n.jpg'),\n",
              " PosixPath('datasets/flower_photos/roses/5419629292_2f06e4b295.jpg'),\n",
              " PosixPath('datasets/flower_photos/roses/5960270643_1b8a94822e_m.jpg'),\n",
              " PosixPath('datasets/flower_photos/roses/2414954629_3708a1a04d.jpg'),\n",
              " PosixPath('datasets/flower_photos/roses/17302463621_d82be11f01_n.jpg'),\n",
              " PosixPath('datasets/flower_photos/roses/4061451210_1650590c6a.jpg'),\n",
              " PosixPath('datasets/flower_photos/roses/14001990976_bd2da42dbc.jpg'),\n",
              " PosixPath('datasets/flower_photos/roses/14145188939_b4de638bd3_n.jpg'),\n",
              " PosixPath('datasets/flower_photos/roses/15255964454_0a64eb67fa.jpg'),\n",
              " PosixPath('datasets/flower_photos/roses/15186434972_e353da940a.jpg'),\n",
              " PosixPath('datasets/flower_photos/roses/3278709893_ba4956a572_n.jpg'),\n",
              " PosixPath('datasets/flower_photos/roses/6309548569_932fee8313_m.jpg'),\n",
              " PosixPath('datasets/flower_photos/roses/3171577977_8608282f04_m.jpg'),\n",
              " PosixPath('datasets/flower_photos/roses/21347496068_f4d3339607.jpg'),\n",
              " PosixPath('datasets/flower_photos/roses/18599603859_f2ec616ddf_n.jpg'),\n",
              " PosixPath('datasets/flower_photos/roses/4248222578_b4d5868b32.jpg'),\n",
              " PosixPath('datasets/flower_photos/roses/5863698305_04a4277401_n.jpg'),\n",
              " PosixPath('datasets/flower_photos/roses/6363951285_a802238d4e.jpg'),\n",
              " PosixPath('datasets/flower_photos/roses/8060338380_eb6c806624_n.jpg'),\n",
              " PosixPath('datasets/flower_photos/roses/3560426426_1c66cb8330.jpg'),\n",
              " PosixPath('datasets/flower_photos/roses/6255593451_b8a3aa8f7a_m.jpg'),\n",
              " PosixPath('datasets/flower_photos/roses/3697780051_83e50a6dd1_m.jpg'),\n",
              " PosixPath('datasets/flower_photos/roses/6473543547_4fefdbd5dc.jpg'),\n",
              " PosixPath('datasets/flower_photos/roses/12434194695_a7c4e73c6b_n.jpg'),\n",
              " PosixPath('datasets/flower_photos/roses/9433167170_fa056d3175.jpg'),\n",
              " PosixPath('datasets/flower_photos/roses/16100313047_c2e23cbb3d_n.jpg'),\n",
              " PosixPath('datasets/flower_photos/roses/16449467833_d82aac5749_m.jpg'),\n",
              " PosixPath('datasets/flower_photos/roses/9458445402_79e4dfa89c.jpg'),\n",
              " PosixPath('datasets/flower_photos/roses/3407482427_49d5c75291_m.jpg'),\n",
              " PosixPath('datasets/flower_photos/roses/5182167964_9d1a0be0b8_n.jpg'),\n",
              " PosixPath('datasets/flower_photos/roses/2093263381_afd51358a3.jpg'),\n",
              " PosixPath('datasets/flower_photos/roses/4093390305_4010c736c9.jpg'),\n",
              " PosixPath('datasets/flower_photos/roses/8747396730_966149e6fe_n.jpg'),\n",
              " PosixPath('datasets/flower_photos/roses/2258973326_03c0145f15_n.jpg'),\n",
              " PosixPath('datasets/flower_photos/roses/13264214185_d6aa79b3bd.jpg'),\n",
              " PosixPath('datasets/flower_photos/roses/14573732424_1bb91e2e42_n.jpg'),\n",
              " PosixPath('datasets/flower_photos/roses/8622493424_877ae35ed7.jpg'),\n",
              " PosixPath('datasets/flower_photos/roses/15255964274_cf2ecdf702.jpg'),\n",
              " PosixPath('datasets/flower_photos/roses/3751835302_d5a03f55e8_n.jpg'),\n",
              " PosixPath('datasets/flower_photos/roses/18389368680_91c24a2087_z.jpg'),\n",
              " PosixPath('datasets/flower_photos/roses/12572786553_634868f7f2_n.jpg'),\n",
              " PosixPath('datasets/flower_photos/roses/9353111163_7a89b2df35_n.jpg'),\n",
              " PosixPath('datasets/flower_photos/roses/12240577184_b0de0e53ea_n.jpg'),\n",
              " PosixPath('datasets/flower_photos/roses/5332550500_ab341aefd8.jpg'),\n",
              " PosixPath('datasets/flower_photos/roses/2536282942_b5ca27577e.jpg'),\n",
              " PosixPath('datasets/flower_photos/roses/8742493617_c2a9bf854f_m.jpg'),\n",
              " PosixPath('datasets/flower_photos/roses/7409458444_0bfc9a0682_n.jpg'),\n",
              " PosixPath('datasets/flower_photos/roses/21413573151_e681c6a97a.jpg'),\n",
              " PosixPath('datasets/flower_photos/roses/2535466393_6556afeb2f_m.jpg'),\n",
              " PosixPath('datasets/flower_photos/roses/19566556880_476c66c5ee_n.jpg'),\n",
              " PosixPath('datasets/flower_photos/roses/6347846687_3f0a7c3176.jpg'),\n",
              " PosixPath('datasets/flower_photos/roses/174109630_3c544b8a2f.jpg'),\n",
              " PosixPath('datasets/flower_photos/roses/14880561916_79aeb812fd_n.jpg'),\n",
              " PosixPath('datasets/flower_photos/roses/12238827553_cf427bfd51_n.jpg'),\n",
              " PosixPath('datasets/flower_photos/roses/7251352826_69b62cba2c_m.jpg'),\n",
              " PosixPath('datasets/flower_photos/roses/7316409504_7cf3707f8a_m.jpg'),\n",
              " PosixPath('datasets/flower_photos/roses/3655527028_0fab2b547d_n.jpg'),\n",
              " PosixPath('datasets/flower_photos/roses/19823402005_2db025dd66_m.jpg'),\n",
              " PosixPath('datasets/flower_photos/roses/5497730366_44d758d8f5.jpg'),\n",
              " PosixPath('datasets/flower_photos/roses/123128873_546b8b7355_n.jpg'),\n",
              " PosixPath('datasets/flower_photos/roses/16051111039_0f0626a241_n.jpg'),\n",
              " PosixPath('datasets/flower_photos/roses/3253243865_435c1f2c2b_m.jpg'),\n",
              " PosixPath('datasets/flower_photos/roses/6409000675_6eb6806e59.jpg'),\n",
              " PosixPath('datasets/flower_photos/roses/6280787884_141cd7b382_n.jpg'),\n",
              " PosixPath('datasets/flower_photos/roses/8241471746_5d81fdd3c0_n.jpg'),\n",
              " PosixPath('datasets/flower_photos/roses/14943194730_f48b4d4547_n.jpg'),\n",
              " PosixPath('datasets/flower_photos/roses/3450344423_63ba3190e3.jpg'),\n",
              " PosixPath('datasets/flower_photos/roses/5181899042_0a6ffe0c8a_n.jpg'),\n",
              " PosixPath('datasets/flower_photos/roses/537625768_791e973b40.jpg'),\n",
              " PosixPath('datasets/flower_photos/roses/3494252600_29f26e3ff0_n.jpg'),\n",
              " PosixPath('datasets/flower_photos/roses/18741313803_1bbf842fc6_n.jpg'),\n",
              " PosixPath('datasets/flower_photos/roses/475936554_a2b38aaa8e.jpg'),\n",
              " PosixPath('datasets/flower_photos/roses/4279990882_031482f8b6_n.jpg'),\n",
              " PosixPath('datasets/flower_photos/roses/3903276582_fe05bf84c7_n.jpg'),\n",
              " PosixPath('datasets/flower_photos/roses/8644003462_2272de26eb.jpg'),\n",
              " PosixPath('datasets/flower_photos/roses/8987479080_32ab912d10_n.jpg'),\n",
              " PosixPath('datasets/flower_photos/roses/7865295712_bcc94d120c.jpg'),\n",
              " PosixPath('datasets/flower_photos/roses/4505921907_21c8002fde.jpg'),\n",
              " PosixPath('datasets/flower_photos/roses/3115889021_053f3b8e5a.jpg'),\n",
              " PosixPath('datasets/flower_photos/roses/3276552939_8c31b22d3e.jpg'),\n",
              " PosixPath('datasets/flower_photos/roses/3663244576_97f595cf4a.jpg'),\n",
              " PosixPath('datasets/flower_photos/roses/15424480096_45bb574b33.jpg'),\n",
              " PosixPath('datasets/flower_photos/roses/5193918046_d44e4fcd75_m.jpg'),\n",
              " PosixPath('datasets/flower_photos/roses/14597445311_8acb60247e.jpg'),\n",
              " PosixPath('datasets/flower_photos/roses/685724528_6cd5cbe203.jpg'),\n",
              " PosixPath('datasets/flower_photos/roses/2682566502_967e7eaa2a.jpg'),\n",
              " PosixPath('datasets/flower_photos/roses/6969041818_a505baa68e_m.jpg'),\n",
              " PosixPath('datasets/flower_photos/roses/16691277899_9433f39155_n.jpg'),\n",
              " PosixPath('datasets/flower_photos/roses/229488796_21ac6ee16d_n.jpg'),\n",
              " PosixPath('datasets/flower_photos/roses/12450781274_eb78723921.jpg'),\n",
              " PosixPath('datasets/flower_photos/roses/3948347096_42261f047a_m.jpg'),\n",
              " PosixPath('datasets/flower_photos/roses/7211616670_2d49ecb3a5_m.jpg'),\n",
              " PosixPath('datasets/flower_photos/roses/15190665092_5c1c37a066_m.jpg'),\n",
              " PosixPath('datasets/flower_photos/roses/2892056920_918c52889b_m.jpg'),\n",
              " PosixPath('datasets/flower_photos/roses/16525204061_9b47be3726_m.jpg'),\n",
              " PosixPath('datasets/flower_photos/roses/11944957684_2cc806276e.jpg'),\n",
              " PosixPath('datasets/flower_photos/roses/8524505546_b242bd4928_n.jpg'),\n",
              " PosixPath('datasets/flower_photos/roses/2065522422_cfdd80044a_n.jpg'),\n",
              " PosixPath('datasets/flower_photos/roses/12562723334_a2e0a9e3c8_n.jpg'),\n",
              " PosixPath('datasets/flower_photos/roses/15822837396_96b392fda8_m.jpg'),\n",
              " PosixPath('datasets/flower_photos/roses/17449165090_dfb27af360_n.jpg'),\n",
              " PosixPath('datasets/flower_photos/roses/15859434664_67bf3ef29f.jpg'),\n",
              " PosixPath('datasets/flower_photos/roses/18990187093_09f2bff8fc_m.jpg'),\n",
              " PosixPath('datasets/flower_photos/roses/7187035716_5d0fb95c31_n.jpg'),\n",
              " PosixPath('datasets/flower_photos/roses/118974357_0faa23cce9_n.jpg'),\n",
              " PosixPath('datasets/flower_photos/roses/17165596357_392a12391f.jpg'),\n",
              " PosixPath('datasets/flower_photos/roses/4292443009_3a2831b0b9_m.jpg'),\n",
              " PosixPath('datasets/flower_photos/roses/14221192676_eb8c89a7d6_n.jpg'),\n",
              " PosixPath('datasets/flower_photos/roses/1775233884_12ff5a124f.jpg'),\n",
              " PosixPath('datasets/flower_photos/roses/13235124703_a7e1266e44.jpg'),\n",
              " PosixPath('datasets/flower_photos/roses/4797595918_79887b1229_n.jpg'),\n",
              " PosixPath('datasets/flower_photos/roses/4921988677_e2eb0c9a24_m.jpg'),\n",
              " PosixPath('datasets/flower_photos/roses/16339359979_6d742660b8_n.jpg'),\n",
              " PosixPath('datasets/flower_photos/roses/2980099495_cf272e90ca_m.jpg'),\n",
              " PosixPath('datasets/flower_photos/roses/16152175716_55d6968e08_n.jpg'),\n",
              " PosixPath('datasets/flower_photos/roses/6803363808_9f9ce98186_m.jpg'),\n",
              " PosixPath('datasets/flower_photos/roses/8181940917_1ac63937d5_n.jpg'),\n",
              " PosixPath('datasets/flower_photos/roses/20596941736_f2c5f496cf.jpg'),\n",
              " PosixPath('datasets/flower_photos/roses/9216323421_f737c1d50e.jpg'),\n",
              " PosixPath('datasets/flower_photos/roses/2735666555_01d53e74fe.jpg'),\n",
              " PosixPath('datasets/flower_photos/roses/14019883858_e5d2a0ec10_n.jpg'),\n",
              " PosixPath('datasets/flower_photos/roses/3873271620_1d9d314f01_n.jpg'),\n",
              " PosixPath('datasets/flower_photos/roses/16670921315_0fc48d7ab2_n.jpg'),\n",
              " PosixPath('datasets/flower_photos/roses/9320934277_4fb95aef5d_n.jpg'),\n",
              " PosixPath('datasets/flower_photos/roses/4881402397_1c664af2f7_n.jpg'),\n",
              " PosixPath('datasets/flower_photos/roses/4267024012_295e7141a3_n.jpg'),\n",
              " PosixPath('datasets/flower_photos/roses/12407768513_3440238148_n.jpg'),\n",
              " PosixPath('datasets/flower_photos/roses/5492988531_574cdc2bf0_n.jpg'),\n",
              " PosixPath('datasets/flower_photos/roses/3742155164_14b557a51c_n.jpg'),\n",
              " PosixPath('datasets/flower_photos/roses/2408236801_f43c6bcff2.jpg'),\n",
              " PosixPath('datasets/flower_photos/roses/7302931078_30054c1970_n.jpg'),\n",
              " PosixPath('datasets/flower_photos/roses/15761264350_4caaf080f6_m.jpg'),\n",
              " PosixPath('datasets/flower_photos/roses/19153732586_9de58c8f53_n.jpg'),\n",
              " PosixPath('datasets/flower_photos/roses/5212877807_a3ddf06a7c_n.jpg'),\n",
              " PosixPath('datasets/flower_photos/roses/16424992340_c1d9eb72b4.jpg'),\n",
              " PosixPath('datasets/flower_photos/roses/17040847367_b54d05bf52.jpg'),\n",
              " PosixPath('datasets/flower_photos/roses/6936225976_a91b60d8c2_m.jpg'),\n",
              " PosixPath('datasets/flower_photos/roses/1562198683_8cd8cb5876_n.jpg'),\n",
              " PosixPath('datasets/flower_photos/roses/6363976189_e7155e5f9c.jpg'),\n",
              " PosixPath('datasets/flower_photos/roses/99383371_37a5ac12a3_n.jpg'),\n",
              " PosixPath('datasets/flower_photos/roses/4644336779_acd973528c.jpg'),\n",
              " PosixPath('datasets/flower_photos/roses/17051448596_69348f7fce_m.jpg'),\n",
              " PosixPath('datasets/flower_photos/roses/8524505682_bda885af3a_n.jpg'),\n",
              " PosixPath('datasets/flower_photos/roses/323872063_7264e7e018_m.jpg'),\n",
              " PosixPath('datasets/flower_photos/roses/16476788181_0e2ffc719a.jpg'),\n",
              " PosixPath('datasets/flower_photos/roses/16334786972_1b3e71cab8_m.jpg'),\n",
              " PosixPath('datasets/flower_photos/roses/14414117598_cf70df30de.jpg'),\n",
              " PosixPath('datasets/flower_photos/roses/3103591125_99107c8bbe_n.jpg'),\n",
              " PosixPath('datasets/flower_photos/roses/17990320484_93bba345d2_m.jpg'),\n",
              " PosixPath('datasets/flower_photos/roses/272481307_1eb47ba3e0_n.jpg'),\n",
              " PosixPath('datasets/flower_photos/roses/218630974_5646dafc63_m.jpg'),\n",
              " PosixPath('datasets/flower_photos/roses/3921794817_276eb4386b.jpg'),\n",
              " PosixPath('datasets/flower_photos/roses/15174615529_144ae28bdb_n.jpg'),\n",
              " PosixPath('datasets/flower_photos/roses/6036837996_7fbdcdb3c5_n.jpg'),\n",
              " PosixPath('datasets/flower_photos/roses/3052753519_d087aaeacb_n.jpg'),\n",
              " PosixPath('datasets/flower_photos/roses/10894627425_ec76bbc757_n.jpg'),\n",
              " PosixPath('datasets/flower_photos/roses/9633056561_6f1b7e8faf_m.jpg'),\n",
              " PosixPath('datasets/flower_photos/roses/6241886381_cc722785af.jpg'),\n",
              " PosixPath('datasets/flower_photos/roses/12406418663_af20dc225f_n.jpg'),\n",
              " PosixPath('datasets/flower_photos/roses/15922772266_1167a06620.jpg'),\n",
              " PosixPath('datasets/flower_photos/roses/4724951744_61877ec101_n.jpg'),\n",
              " PosixPath('datasets/flower_photos/roses/488849503_63a290a8c2_m.jpg'),\n",
              " PosixPath('datasets/flower_photos/roses/1813435848_7852708394_n.jpg'),\n",
              " PosixPath('datasets/flower_photos/roses/3179751458_9646d839f6_n.jpg'),\n",
              " PosixPath('datasets/flower_photos/roses/8723767157_c45bfd3ab6.jpg'),\n",
              " PosixPath('datasets/flower_photos/roses/15274443248_76b9f3eb24.jpg'),\n",
              " PosixPath('datasets/flower_photos/roses/8394286483_69fe04cc7f.jpg'),\n",
              " PosixPath('datasets/flower_photos/roses/14414123198_24606fb32d.jpg'),\n",
              " PosixPath('datasets/flower_photos/roses/5172171681_5934378f08.jpg'),\n",
              " PosixPath('datasets/flower_photos/roses/2949945463_366bc63079_n.jpg'),\n",
              " PosixPath('datasets/flower_photos/roses/494803274_f84f21d53a.jpg'),\n",
              " PosixPath('datasets/flower_photos/roses/3475572132_01ae28e834_n.jpg'),\n",
              " PosixPath('datasets/flower_photos/roses/3664842094_5fd60ee26b.jpg'),\n",
              " PosixPath('datasets/flower_photos/roses/1801614110_bb9fa46830.jpg'),\n",
              " PosixPath('datasets/flower_photos/roses/12202373204_34fb07205b.jpg'),\n",
              " PosixPath('datasets/flower_photos/roses/5602220566_5cdde8fa6c_n.jpg'),\n",
              " PosixPath('datasets/flower_photos/roses/15697872479_ed48e9dd73_n.jpg'),\n",
              " PosixPath('datasets/flower_photos/roses/1793211631_68c31a74dc.jpg'),\n",
              " PosixPath('datasets/flower_photos/roses/14747962886_2bff6bb323_m.jpg'),\n",
              " PosixPath('datasets/flower_photos/roses/14414100710_753a36fce9.jpg'),\n",
              " PosixPath('datasets/flower_photos/roses/12165480946_c4a3fe182d_n.jpg'),\n",
              " PosixPath('datasets/flower_photos/roses/15566697073_9a214b700e_n.jpg'),\n",
              " PosixPath('datasets/flower_photos/roses/4625089819_55c45a189c.jpg'),\n",
              " PosixPath('datasets/flower_photos/roses/12406229175_82e2ac649c_n.jpg'),\n",
              " PosixPath('datasets/flower_photos/roses/9216321995_83df405ea9.jpg'),\n",
              " PosixPath('datasets/flower_photos/roses/8337607102_d9e0fa887e.jpg'),\n",
              " PosixPath('datasets/flower_photos/roses/4558025386_2c47314528.jpg'),\n",
              " PosixPath('datasets/flower_photos/roses/5223191368_01aedb6547_n.jpg'),\n",
              " PosixPath('datasets/flower_photos/roses/3074406590_91c697c805_n.jpg'),\n",
              " PosixPath('datasets/flower_photos/roses/6653567281_768a1fd160.jpg'),\n",
              " PosixPath('datasets/flower_photos/roses/7376473742_532364cee5_n.jpg'),\n",
              " PosixPath('datasets/flower_photos/roses/15277801151_5ed88f40f0_n.jpg'),\n",
              " PosixPath('datasets/flower_photos/roses/2627513944_b1361e60ec_m.jpg'),\n",
              " PosixPath('datasets/flower_photos/roses/4256169180_55df2048a0.jpg'),\n",
              " PosixPath('datasets/flower_photos/roses/2423565102_2f1a00bb1b_n.jpg'),\n",
              " PosixPath('datasets/flower_photos/roses/16229215579_e7dd808e9c.jpg'),\n",
              " PosixPath('datasets/flower_photos/roses/8775267816_726ddc6d92_n.jpg'),\n",
              " PosixPath('datasets/flower_photos/roses/2973256732_1926295f35.jpg'),\n",
              " PosixPath('datasets/flower_photos/roses/459042023_6273adc312_n.jpg'),\n",
              " PosixPath('datasets/flower_photos/roses/2332478138_28f1d586e4_n.jpg'),\n",
              " PosixPath('datasets/flower_photos/roses/1757822526_fe30b9b3ca_m.jpg'),\n",
              " PosixPath('datasets/flower_photos/roses/9164900485_605aa12da8.jpg'),\n",
              " PosixPath('datasets/flower_photos/roses/4414135084_1ac7e6cd54.jpg'),\n",
              " PosixPath('datasets/flower_photos/roses/18220342690_f1c20134bd.jpg'),\n",
              " PosixPath('datasets/flower_photos/roses/5061135742_2870a7b691_n.jpg'),\n",
              " PosixPath('datasets/flower_photos/roses/5578766623_542c91dfaa_n.jpg'),\n",
              " PosixPath('datasets/flower_photos/roses/8209458141_38f38be65c_m.jpg'),\n",
              " PosixPath('datasets/flower_photos/roses/15537825851_a80b6321d7_n.jpg'),\n",
              " PosixPath('datasets/flower_photos/roses/353897245_5453f35a8e.jpg'),\n",
              " PosixPath('datasets/flower_photos/roses/16152205512_9d6cb80fb6.jpg'),\n",
              " PosixPath('datasets/flower_photos/roses/2535466143_5823e48b63.jpg'),\n",
              " PosixPath('datasets/flower_photos/roses/9423755543_edb35141a3_n.jpg'),\n",
              " PosixPath('datasets/flower_photos/roses/3422228549_f147d6e642.jpg'),\n",
              " PosixPath('datasets/flower_photos/roses/15333843782_060cef3030.jpg'),\n",
              " PosixPath('datasets/flower_photos/roses/15602874619_03fd934bed.jpg'),\n",
              " PosixPath('datasets/flower_photos/roses/15674450867_0ced942941_n.jpg'),\n",
              " PosixPath('datasets/flower_photos/roses/4325834819_ab56661dcc_m.jpg'),\n",
              " PosixPath('datasets/flower_photos/roses/8667746487_781af9e615_n.jpg'),\n",
              " PosixPath('datasets/flower_photos/roses/1666341535_99c6f7509f_n.jpg'),\n",
              " PosixPath('datasets/flower_photos/roses/8125886145_ae99f91fd0.jpg'),\n",
              " PosixPath('datasets/flower_photos/roses/2677417735_a697052d2d_n.jpg'),\n",
              " PosixPath('datasets/flower_photos/roses/909277823_e6fb8cb5c8_n.jpg'),\n",
              " PosixPath('datasets/flower_photos/roses/1756973583_4aac7df00d_m.jpg'),\n",
              " PosixPath('datasets/flower_photos/roses/4713531680_1110a2fa07_n.jpg'),\n",
              " PosixPath('datasets/flower_photos/roses/8983268106_dc913d17d8_m.jpg'),\n",
              " PosixPath('datasets/flower_photos/roses/165985535_7178ce6350.jpg'),\n",
              " PosixPath('datasets/flower_photos/roses/159079265_d77a9ac920_n.jpg'),\n",
              " PosixPath('datasets/flower_photos/roses/18563353954_b761d97155_m.jpg'),\n",
              " PosixPath('datasets/flower_photos/roses/6655078437_759fd626fd_n.jpg'),\n",
              " PosixPath('datasets/flower_photos/roses/14408977935_a397e796b8_m.jpg'),\n",
              " PosixPath('datasets/flower_photos/roses/15419696882_9394168a10_n.jpg'),\n",
              " PosixPath('datasets/flower_photos/roses/14970973709_968910640e_n.jpg'),\n",
              " PosixPath('datasets/flower_photos/roses/20622485918_90fc000c86_n.jpg'),\n",
              " PosixPath('datasets/flower_photos/roses/16018886851_c32746cb72.jpg'),\n",
              " PosixPath('datasets/flower_photos/roses/13231224664_4af5293a37.jpg'),\n",
              " PosixPath('datasets/flower_photos/roses/6347847065_83cf87333b_n.jpg'),\n",
              " PosixPath('datasets/flower_photos/roses/8949720453_66e8304c30.jpg'),\n",
              " PosixPath('datasets/flower_photos/roses/2863863372_605e29c03e_m.jpg'),\n",
              " PosixPath('datasets/flower_photos/roses/483444865_65962cea07_m.jpg'),\n",
              " PosixPath('datasets/flower_photos/roses/8032328803_30afac8b07_m.jpg'),\n",
              " PosixPath('datasets/flower_photos/roses/269037241_07fceff56a_m.jpg'),\n",
              " PosixPath('datasets/flower_photos/roses/16961613890_695b36aab2_m.jpg'),\n",
              " PosixPath('datasets/flower_photos/roses/5159317458_bbb22e2f65_n.jpg'),\n",
              " PosixPath('datasets/flower_photos/roses/8523394349_61b31fdd8f_m.jpg'),\n",
              " PosixPath('datasets/flower_photos/roses/9298314004_c1a8146521.jpg'),\n",
              " PosixPath('datasets/flower_photos/roses/16484100863_979beacb08.jpg'),\n",
              " PosixPath('datasets/flower_photos/roses/2609353769_dc3654f12f.jpg'),\n",
              " PosixPath('datasets/flower_photos/roses/2300959680_8d22fa5ee2.jpg'),\n",
              " PosixPath('datasets/flower_photos/roses/515121050_dcb99890be.jpg'),\n",
              " PosixPath('datasets/flower_photos/roses/9159362388_c6f4cf3812_n.jpg'),\n",
              " PosixPath('datasets/flower_photos/roses/512578026_f6e6f2ad26.jpg'),\n",
              " PosixPath('datasets/flower_photos/roses/4754734410_94d98463a5.jpg'),\n",
              " PosixPath('datasets/flower_photos/roses/3268459296_a7346c6b2c.jpg'),\n",
              " PosixPath('datasets/flower_photos/roses/16903172207_2cd7aca66a.jpg'),\n",
              " PosixPath('datasets/flower_photos/roses/5148639829_781eb7d346.jpg'),\n",
              " PosixPath('datasets/flower_photos/roses/3576488381_611f3446e0_n.jpg'),\n",
              " PosixPath('datasets/flower_photos/roses/6069602140_866eecf7c2_m.jpg'),\n",
              " PosixPath('datasets/flower_photos/roses/23891005905_17ce9e6936.jpg'),\n",
              " PosixPath('datasets/flower_photos/roses/2141413229_3f0425f972_n.jpg'),\n",
              " PosixPath('datasets/flower_photos/roses/15312360171_57bde98799_n.jpg'),\n",
              " PosixPath('datasets/flower_photos/roses/527513005_41497ca4dc.jpg'),\n",
              " PosixPath('datasets/flower_photos/roses/9216324117_5fa1e2bc25_n.jpg'),\n",
              " PosixPath('datasets/flower_photos/roses/9609569441_eeb8566e94.jpg'),\n",
              " PosixPath('datasets/flower_photos/roses/873660804_37f5c6a46e_n.jpg'),\n",
              " PosixPath('datasets/flower_photos/roses/1667199972_7ba7d999c1_m.jpg'),\n",
              " PosixPath('datasets/flower_photos/roses/5628552852_60bbe8d9b0_n.jpg'),\n",
              " PosixPath('datasets/flower_photos/roses/2777518561_105abc8cfc_n.jpg'),\n",
              " PosixPath('datasets/flower_photos/roses/15498482197_8878cdfb07_n.jpg'),\n",
              " PosixPath('datasets/flower_photos/roses/5721768347_2ec4d2247b_n.jpg'),\n",
              " PosixPath('datasets/flower_photos/roses/1788484468_f73afa6c32_n.jpg'),\n",
              " PosixPath('datasets/flower_photos/roses/21522100663_455b77a90c_n.jpg'),\n",
              " PosixPath('datasets/flower_photos/roses/8853083579_dd1dfa3188.jpg'),\n",
              " PosixPath('datasets/flower_photos/roses/7420699022_60fa574524_m.jpg'),\n",
              " PosixPath('datasets/flower_photos/roses/22325299158_6e32e599f8_m.jpg'),\n",
              " PosixPath('datasets/flower_photos/roses/5156037859_1673720a11_m.jpg'),\n",
              " PosixPath('datasets/flower_photos/roses/1445228333_59a07e0801.jpg'),\n",
              " PosixPath('datasets/flower_photos/roses/18584002386_cec0df537d_n.jpg'),\n",
              " PosixPath('datasets/flower_photos/roses/4731069260_b270f47803_n.jpg'),\n",
              " PosixPath('datasets/flower_photos/roses/14810868100_87eb739f26_m.jpg'),\n",
              " PosixPath('datasets/flower_photos/roses/1461381091_aaaa663bbe_n.jpg'),\n",
              " PosixPath('datasets/flower_photos/roses/8692040971_826614516f_n.jpg'),\n",
              " PosixPath('datasets/flower_photos/roses/8502529435_c6e40d0df4.jpg'),\n",
              " PosixPath('datasets/flower_photos/roses/8096324039_4db2555490.jpg'),\n",
              " PosixPath('datasets/flower_photos/roses/15750320284_22ef21c682.jpg'),\n",
              " PosixPath('datasets/flower_photos/roses/20825078671_90b0389c70_m.jpg'),\n",
              " PosixPath('datasets/flower_photos/roses/9337528427_3d09b7012b.jpg'),\n",
              " PosixPath('datasets/flower_photos/roses/8035910225_125beceb98_n.jpg'),\n",
              " PosixPath('datasets/flower_photos/roses/3667366832_7a8017c528_n.jpg'),\n",
              " PosixPath('datasets/flower_photos/roses/17953368844_be3d18cf30_m.jpg'),\n",
              " PosixPath('datasets/flower_photos/roses/17702388233_f29dc14834_m.jpg'),\n",
              " PosixPath('datasets/flower_photos/roses/15202632426_d88efb321a_n.jpg'),\n",
              " PosixPath('datasets/flower_photos/roses/5086249859_d066b37b8a_m.jpg'),\n",
              " PosixPath('datasets/flower_photos/roses/9160289562_ab2718d19b.jpg'),\n",
              " PosixPath('datasets/flower_photos/roses/16209331331_343c899d38.jpg'),\n",
              " PosixPath('datasets/flower_photos/roses/509239741_28e2cfe492_m.jpg'),\n",
              " PosixPath('datasets/flower_photos/roses/2491600761_7e9d6776e8_m.jpg'),\n",
              " PosixPath('datasets/flower_photos/roses/3451177763_729a4d54af_n.jpg'),\n",
              " PosixPath('datasets/flower_photos/roses/563847503_89e9756c80.jpg'),\n",
              " PosixPath('datasets/flower_photos/roses/9614492283_66020fb4eb_n.jpg'),\n",
              " PosixPath('datasets/flower_photos/roses/2183357362_4b4da4b6b5.jpg'),\n",
              " PosixPath('datasets/flower_photos/roses/16666836810_216f50e9c3_m.jpg'),\n",
              " PosixPath('datasets/flower_photos/roses/2325232198_751645d0bb_n.jpg'),\n",
              " PosixPath('datasets/flower_photos/roses/5487945052_bcb8e9fc8b_m.jpg'),\n",
              " PosixPath('datasets/flower_photos/roses/9406573080_60eab9278e_n.jpg'),\n",
              " PosixPath('datasets/flower_photos/roses/16374919860_4e445de29f_n.jpg'),\n",
              " PosixPath('datasets/flower_photos/roses/3231873181_faf2da6382.jpg'),\n",
              " PosixPath('datasets/flower_photos/roses/5717319579_190e85c7d1_m.jpg'),\n",
              " PosixPath('datasets/flower_photos/roses/8050213579_48e1e7109f.jpg'),\n",
              " PosixPath('datasets/flower_photos/roses/4735314389_94fe1b2a9f_n.jpg'),\n",
              " PosixPath('datasets/flower_photos/roses/15699509054_d3e125286f_n.jpg'),\n",
              " PosixPath('datasets/flower_photos/roses/5249439791_196b4e7fc7.jpg'),\n",
              " PosixPath('datasets/flower_photos/roses/12240165555_98625b1e88_n.jpg'),\n",
              " PosixPath('datasets/flower_photos/roses/3412874275_ca78ee024d_m.jpg'),\n",
              " PosixPath('datasets/flower_photos/roses/1469726748_f359f4a8c5.jpg'),\n",
              " PosixPath('datasets/flower_photos/roses/3550491463_3eb092054c_m.jpg'),\n",
              " PosixPath('datasets/flower_photos/roses/2331651885_619653a5d3.jpg'),\n",
              " PosixPath('datasets/flower_photos/roses/4495885281_fe2a3b671d.jpg'),\n",
              " PosixPath('datasets/flower_photos/roses/5249566718_6109630c83_m.jpg'),\n",
              " PosixPath('datasets/flower_photos/roses/3621011057_0d03bd171b_n.jpg'),\n",
              " PosixPath('datasets/flower_photos/roses/12338444334_72fcc2fc58_m.jpg'),\n",
              " PosixPath('datasets/flower_photos/roses/14381787252_e8e12e277a_n.jpg'),\n",
              " PosixPath('datasets/flower_photos/roses/7419966772_d6c1c22a81.jpg'),\n",
              " PosixPath('datasets/flower_photos/roses/15061894841_e5aca59ecd_n.jpg'),\n",
              " PosixPath('datasets/flower_photos/roses/6783408274_974796e92f.jpg'),\n",
              " PosixPath('datasets/flower_photos/roses/5835539224_75967fc400_m.jpg'),\n",
              " PosixPath('datasets/flower_photos/roses/8524505868_236f4c94b5.jpg'),\n",
              " PosixPath('datasets/flower_photos/roses/5292988046_a10f4b0365_n.jpg'),\n",
              " PosixPath('datasets/flower_photos/roses/17062080069_36ac7907d2_n.jpg'),\n",
              " PosixPath('datasets/flower_photos/roses/15094168139_8f636ffa1d_n.jpg'),\n",
              " PosixPath('datasets/flower_photos/roses/12323085443_8ac0cdb713_n.jpg'),\n",
              " PosixPath('datasets/flower_photos/roses/4242976586_607a8f9843_n.jpg'),\n",
              " PosixPath('datasets/flower_photos/roses/4713533500_fcc295de70_n.jpg'),\n",
              " PosixPath('datasets/flower_photos/roses/19440805164_920b28da61_n.jpg'),\n",
              " PosixPath('datasets/flower_photos/roses/3065719996_c16ecd5551.jpg'),\n",
              " PosixPath('datasets/flower_photos/roses/7455236056_b6d71a8dab.jpg'),\n",
              " PosixPath('datasets/flower_photos/roses/4243078361_7b92a932cd_n.jpg'),\n",
              " PosixPath('datasets/flower_photos/roses/3026375835_a20ecdd140_m.jpg'),\n",
              " PosixPath('datasets/flower_photos/roses/2675221506_5286c0595f.jpg'),\n",
              " PosixPath('datasets/flower_photos/roses/850416050_31b3ff7086.jpg'),\n",
              " PosixPath('datasets/flower_photos/roses/12243068283_ee4c2683e2_n.jpg'),\n",
              " PosixPath('datasets/flower_photos/roses/3045046293_57f6d52065_m.jpg'),\n",
              " PosixPath('datasets/flower_photos/roses/13929462317_96342a9a44.jpg'),\n",
              " PosixPath('datasets/flower_photos/roses/5398569540_7d134c42cb_n.jpg'),\n",
              " PosixPath('datasets/flower_photos/roses/180613732_3a7aba0b80_n.jpg'),\n",
              " PosixPath('datasets/flower_photos/roses/6676529655_9672b6f955_m.jpg'),\n",
              " PosixPath('datasets/flower_photos/roses/15319767030_e6c5602a77_m.jpg'),\n",
              " PosixPath('datasets/flower_photos/roses/4588034197_e300b0872a_n.jpg'),\n",
              " PosixPath('datasets/flower_photos/roses/512694812_48ba9c0b49_n.jpg'),\n",
              " PosixPath('datasets/flower_photos/roses/4702438868_278b9cf41c_n.jpg'),\n",
              " PosixPath('datasets/flower_photos/roses/15060816740_68e1b2c31b.jpg'),\n",
              " PosixPath('datasets/flower_photos/roses/2471103806_87ba53d997_n.jpg'),\n",
              " PosixPath('datasets/flower_photos/roses/15738649506_2b4c2fd933_m.jpg'),\n",
              " PosixPath('datasets/flower_photos/roses/3661675690_ed2d05fa5f_n.jpg'),\n",
              " PosixPath('datasets/flower_photos/roses/10503217854_e66a804309.jpg'),\n",
              " PosixPath('datasets/flower_photos/roses/15901230359_1819e96b89_n.jpg'),\n",
              " PosixPath('datasets/flower_photos/roses/5212885371_fe27c406a2_n.jpg'),\n",
              " PosixPath('datasets/flower_photos/roses/921984328_a60076f070_m.jpg'),\n",
              " PosixPath('datasets/flower_photos/roses/8667101118_87ea757b15.jpg'),\n",
              " PosixPath('datasets/flower_photos/roses/4504731519_9a260b6607_n.jpg'),\n",
              " PosixPath('datasets/flower_photos/roses/1392579828_ab5a139052.jpg'),\n",
              " PosixPath('datasets/flower_photos/roses/2448812029_047d981092_m.jpg'),\n",
              " PosixPath('datasets/flower_photos/roses/410421672_563550467c.jpg'),\n",
              " PosixPath('datasets/flower_photos/roses/8562144481_1d629848ff.jpg'),\n",
              " PosixPath('datasets/flower_photos/roses/4694341873_65fe187a4e_n.jpg'),\n",
              " PosixPath('datasets/flower_photos/roses/17158274118_00ec99a23c.jpg'),\n",
              " PosixPath('datasets/flower_photos/roses/3465443774_6b0c75a3b1_n.jpg'),\n",
              " PosixPath('datasets/flower_photos/roses/3500121696_5b6a69effb_n.jpg'),\n",
              " PosixPath('datasets/flower_photos/roses/8926641787_d2515dfe8f_m.jpg'),\n",
              " PosixPath('datasets/flower_photos/roses/8516036987_8a06dfe1b5_n.jpg'),\n",
              " PosixPath('datasets/flower_photos/roses/172311368_49412f881b.jpg'),\n",
              " PosixPath('datasets/flower_photos/roses/4356781875_92c5cd93c0.jpg'),\n",
              " PosixPath('datasets/flower_photos/roses/568715474_bdb64ccc32.jpg'),\n",
              " PosixPath('datasets/flower_photos/roses/14993880427_95d0f27257.jpg'),\n",
              " PosixPath('datasets/flower_photos/roses/15977362155_461030c196_m.jpg'),\n",
              " PosixPath('datasets/flower_photos/roses/8674140377_ae7b0be523.jpg'),\n",
              " PosixPath('datasets/flower_photos/roses/14982802401_a3dfb22afb.jpg'),\n",
              " PosixPath('datasets/flower_photos/roses/4804011140_7defedf4b7_m.jpg'),\n",
              " PosixPath('datasets/flower_photos/roses/2265390547_2409007cef_n.jpg'),\n",
              " PosixPath('datasets/flower_photos/roses/11694025703_9a906fedc1_n.jpg'),\n",
              " PosixPath('datasets/flower_photos/roses/2197754124_5c8a146761_n.jpg'),\n",
              " PosixPath('datasets/flower_photos/roses/4765063233_f64440c20b.jpg'),\n",
              " PosixPath('datasets/flower_photos/roses/3141434519_aaa64c4f65_n.jpg'),\n",
              " PosixPath('datasets/flower_photos/roses/14510185271_b5d75dd98e_n.jpg'),\n",
              " PosixPath('datasets/flower_photos/roses/2960709681_e95940c0f0_n.jpg'),\n",
              " PosixPath('datasets/flower_photos/roses/1831404161_d2df86fd70.jpg'),\n",
              " PosixPath('datasets/flower_photos/roses/6570546331_ffb9dab0bf_n.jpg'),\n",
              " PosixPath('datasets/flower_photos/roses/16155980245_6ab8d7b888.jpg'),\n",
              " PosixPath('datasets/flower_photos/roses/3072908271_08764c732a_m.jpg'),\n",
              " PosixPath('datasets/flower_photos/roses/2550860627_998a4fc4c1.jpg'),\n",
              " PosixPath('datasets/flower_photos/roses/15712574834_2f121c7cf9_m.jpg'),\n",
              " PosixPath('datasets/flower_photos/roses/3203779656_3580151ea4_m.jpg'),\n",
              " PosixPath('datasets/flower_photos/roses/19919867648_043cf02fc3.jpg'),\n",
              " PosixPath('datasets/flower_photos/roses/5398974188_799753449c.jpg'),\n",
              " PosixPath('datasets/flower_photos/roses/4065283966_9504b98269.jpg'),\n",
              " PosixPath('datasets/flower_photos/roses/2535495431_e6f950443c.jpg'),\n",
              " PosixPath('datasets/flower_photos/roses/9369421752_db1ab2a6a4_m.jpg'),\n",
              " PosixPath('datasets/flower_photos/roses/2976723295_b16ab04231.jpg'),\n",
              " PosixPath('datasets/flower_photos/roses/898102603_2d5152f09a.jpg'),\n",
              " PosixPath('datasets/flower_photos/roses/15965652160_de91389965_m.jpg'),\n",
              " PosixPath('datasets/flower_photos/roses/4675532860_890504a4a3_m.jpg'),\n",
              " PosixPath('datasets/flower_photos/roses/7502389724_85b4a6c855_n.jpg'),\n",
              " PosixPath('datasets/flower_photos/roses/5990626258_697f007308_n.jpg'),\n",
              " PosixPath('datasets/flower_photos/roses/6231418894_7946a7712b_n.jpg'),\n",
              " PosixPath('datasets/flower_photos/roses/15999816377_4b95e0b538_n.jpg'),\n",
              " PosixPath('datasets/flower_photos/roses/2392457180_f02dab5c65.jpg'),\n",
              " PosixPath('datasets/flower_photos/roses/22506717337_0fd63e53e9.jpg'),\n",
              " PosixPath('datasets/flower_photos/roses/14154164774_3b39d36778.jpg'),\n",
              " PosixPath('datasets/flower_photos/roses/2347579838_dd6d2aaefc_n.jpg'),\n",
              " PosixPath('datasets/flower_photos/roses/3654988152_b11178bbcb.jpg'),\n",
              " PosixPath('datasets/flower_photos/roses/5529341024_0c35f2657d.jpg'),\n",
              " PosixPath('datasets/flower_photos/roses/4648680921_80dfc4f12a.jpg'),\n",
              " PosixPath('datasets/flower_photos/roses/2568105249_15720d081f_n.jpg'),\n",
              " PosixPath('datasets/flower_photos/roses/6108118824_5b0231a56d.jpg'),\n",
              " PosixPath('datasets/flower_photos/roses/5333437251_ce0aa6925d_n.jpg'),\n",
              " PosixPath('datasets/flower_photos/roses/9300754115_dd79670066_n.jpg'),\n",
              " PosixPath('datasets/flower_photos/roses/5961803532_9368212949_m.jpg'),\n",
              " PosixPath('datasets/flower_photos/roses/17090993740_fcc8b60b81.jpg'),\n",
              " PosixPath('datasets/flower_photos/roses/12240303_80d87f77a3_n.jpg'),\n",
              " PosixPath('datasets/flower_photos/roses/2756028421_b3d5eea526_n.jpg'),\n",
              " PosixPath('datasets/flower_photos/roses/4951581805_b049304f1b_n.jpg'),\n",
              " PosixPath('datasets/flower_photos/roses/5088766459_f81f50e57d_n.jpg'),\n",
              " PosixPath('datasets/flower_photos/roses/9702378513_229a96b754_m.jpg'),\n",
              " PosixPath('datasets/flower_photos/roses/15172358234_28706749a5.jpg'),\n",
              " PosixPath('datasets/flower_photos/roses/11102341464_508d558dfc_n.jpg'),\n",
              " PosixPath('datasets/flower_photos/roses/8742493689_fb852f0228_n.jpg'),\n",
              " PosixPath('datasets/flower_photos/roses/6111589202_8b9555364c_m.jpg'),\n",
              " PosixPath('datasets/flower_photos/roses/5083072098_81587295d5.jpg'),\n",
              " PosixPath('datasets/flower_photos/roses/5231103167_a03280e9f6_n.jpg'),\n",
              " PosixPath('datasets/flower_photos/roses/1402130395_0b89d76029.jpg'),\n",
              " PosixPath('datasets/flower_photos/roses/8063462557_e0a8bd6c64_n.jpg'),\n",
              " PosixPath('datasets/flower_photos/roses/22385375599_1faf334f5d_n.jpg'),\n",
              " PosixPath('datasets/flower_photos/roses/3872230296_6c477309f3_n.jpg'),\n",
              " PosixPath('datasets/flower_photos/roses/319298955_0c72bd36bf.jpg'),\n",
              " PosixPath('datasets/flower_photos/roses/5234278003_d827fcd73b_m.jpg'),\n",
              " PosixPath('datasets/flower_photos/roses/2713683760_d98cd2a05b_m.jpg'),\n",
              " PosixPath('datasets/flower_photos/roses/388405293_4db1d71f21_n.jpg'),\n",
              " PosixPath('datasets/flower_photos/roses/15032112248_30c5284e54_n.jpg'),\n",
              " PosixPath('datasets/flower_photos/roses/9355706808_a9a723a8e8_n.jpg'),\n",
              " PosixPath('datasets/flower_photos/roses/537207677_f96a0507bb.jpg'),\n",
              " PosixPath('datasets/flower_photos/roses/16772483324_09f24813a1_n.jpg'),\n",
              " PosixPath('datasets/flower_photos/roses/5060536705_b370a5c543_n.jpg'),\n",
              " PosixPath('datasets/flower_photos/roses/8960904651_9a0b727258.jpg'),\n",
              " PosixPath('datasets/flower_photos/roses/2273917656_6d6c038283.jpg'),\n",
              " PosixPath('datasets/flower_photos/roses/15222804561_0fde5eb4ae_n.jpg'),\n",
              " PosixPath('datasets/flower_photos/roses/17700322054_1c4fdaa034_m.jpg'),\n",
              " PosixPath('datasets/flower_photos/roses/8671682526_7058143c99.jpg'),\n",
              " PosixPath('datasets/flower_photos/roses/6732261031_861a1026fa_n.jpg'),\n",
              " PosixPath('datasets/flower_photos/roses/5736328472_8f25e6f6e7.jpg'),\n",
              " PosixPath('datasets/flower_photos/roses/4900231976_f8ced2b42a_n.jpg'),\n",
              " PosixPath('datasets/flower_photos/roses/22093190909_77223e6f53_n.jpg'),\n",
              " PosixPath('datasets/flower_photos/roses/15681454551_b6f73ce443_n.jpg'),\n",
              " PosixPath('datasets/flower_photos/roses/295257304_de893fc94d.jpg'),\n",
              " PosixPath('datasets/flower_photos/roses/6864417932_36fa4ceecf_n.jpg'),\n",
              " PosixPath('datasets/flower_photos/roses/9338237628_4d2547608c.jpg'),\n",
              " PosixPath('datasets/flower_photos/roses/6053143173_991c011b23.jpg'),\n",
              " PosixPath('datasets/flower_photos/roses/7304710956_015b41f802_m.jpg'),\n",
              " PosixPath('datasets/flower_photos/roses/4918137796_21f0922b0c_n.jpg'),\n",
              " PosixPath('datasets/flower_photos/roses/3909587261_f8cd3e7fe7.jpg'),\n",
              " PosixPath('datasets/flower_photos/roses/6125332325_b768e08bd9_n.jpg'),\n",
              " PosixPath('datasets/flower_photos/roses/3145692843_d46ba4703c.jpg'),\n",
              " PosixPath('datasets/flower_photos/roses/5050969148_a0090f762a.jpg'),\n",
              " PosixPath('datasets/flower_photos/roses/756943228_e15a7b2318.jpg'),\n",
              " PosixPath('datasets/flower_photos/roses/7285188160_49d84b95a3_m.jpg'),\n",
              " PosixPath('datasets/flower_photos/roses/14166797345_d2ab9da518.jpg'),\n",
              " PosixPath('datasets/flower_photos/roses/1645761726_2b1be95472.jpg'),\n",
              " PosixPath('datasets/flower_photos/roses/3713368809_eba7fa2fbf_m.jpg'),\n",
              " PosixPath('datasets/flower_photos/roses/3742168238_d961937e68_n.jpg'),\n",
              " PosixPath('datasets/flower_photos/roses/6687138903_ff6ae12758_n.jpg'),\n",
              " PosixPath('datasets/flower_photos/roses/19988406792_68201f76e3_n.jpg'),\n",
              " PosixPath('datasets/flower_photos/roses/16157873719_bf0bdf8558_n.jpg'),\n",
              " PosixPath('datasets/flower_photos/roses/2788276815_8f730bd942.jpg'),\n",
              " PosixPath('datasets/flower_photos/roses/3871586333_5a708d5cf4_n.jpg'),\n",
              " PosixPath('datasets/flower_photos/roses/466486216_ab13b55763.jpg'),\n",
              " PosixPath('datasets/flower_photos/roses/4609168052_3d4e1d3804_n.jpg'),\n",
              " PosixPath('datasets/flower_photos/roses/20409866779_ac473f55e0_m.jpg'),\n",
              " PosixPath('datasets/flower_photos/roses/3556123230_936bf084a5_n.jpg'),\n",
              " PosixPath('datasets/flower_photos/roses/5578760521_e54aca6bed_n.jpg'),\n",
              " PosixPath('datasets/flower_photos/roses/7551637034_55ae047756_n.jpg'),\n",
              " PosixPath('datasets/flower_photos/roses/4413509121_a62879598a.jpg'),\n",
              " PosixPath('datasets/flower_photos/roses/5840476802_dfa40deb1f_m.jpg'),\n",
              " PosixPath('datasets/flower_photos/roses/17554868955_35f48516cd_m.jpg'),\n",
              " PosixPath('datasets/flower_photos/roses/534228982_4afbcece9b_m.jpg'),\n",
              " PosixPath('datasets/flower_photos/roses/6209630964_e8de48fe04_m.jpg'),\n",
              " PosixPath('datasets/flower_photos/roses/7683456068_02644b8382_m.jpg'),\n",
              " PosixPath('datasets/flower_photos/roses/4609166128_b7ed49b40b_m.jpg'),\n",
              " PosixPath('datasets/flower_photos/roses/17077876795_6dd1b03f54_m.jpg'),\n",
              " PosixPath('datasets/flower_photos/roses/8692051081_dffa8709e7_m.jpg'),\n",
              " PosixPath('datasets/flower_photos/roses/16552686350_db8db55cd2.jpg'),\n",
              " PosixPath('datasets/flower_photos/roses/2409069862_b128ee2a71.jpg'),\n",
              " PosixPath('datasets/flower_photos/roses/1949195327_75f76c12b1.jpg'),\n",
              " PosixPath('datasets/flower_photos/roses/10090824183_d02c613f10_m.jpg'),\n",
              " PosixPath('datasets/flower_photos/roses/4504220673_af754fcb40_n.jpg'),\n",
              " PosixPath('datasets/flower_photos/roses/15184419268_7230e9728e.jpg'),\n",
              " PosixPath('datasets/flower_photos/roses/5206847130_ee4bf0e4de_n.jpg'),\n",
              " PosixPath('datasets/flower_photos/roses/1446097778_97149b8362.jpg'),\n",
              " PosixPath('datasets/flower_photos/roses/326541992_d542103ca8_n.jpg'),\n",
              " PosixPath('datasets/flower_photos/roses/24781114_bc83aa811e_n.jpg'),\n",
              " PosixPath('datasets/flower_photos/roses/5897035797_e67bf68124_n.jpg'),\n",
              " PosixPath('datasets/flower_photos/roses/1485142251_ca89254442.jpg'),\n",
              " PosixPath('datasets/flower_photos/roses/3264570182_c7ded528ba_m.jpg'),\n",
              " PosixPath('datasets/flower_photos/roses/21346056089_e6f8074e5f_m.jpg'),\n",
              " PosixPath('datasets/flower_photos/roses/16258946661_f9739cdc0a.jpg'),\n",
              " PosixPath('datasets/flower_photos/roses/8442304572_2fdc9c7547_n.jpg'),\n",
              " PosixPath('datasets/flower_photos/roses/3829990289_c0c3821e4d_m.jpg'),\n",
              " PosixPath('datasets/flower_photos/roses/5731750490_ba3325b7ee_n.jpg'),\n",
              " PosixPath('datasets/flower_photos/roses/8590442797_07fa2141c0_n.jpg'),\n",
              " PosixPath('datasets/flower_photos/roses/14683774134_6367640585.jpg'),\n",
              " PosixPath('datasets/flower_photos/roses/12395698413_c0388278f7.jpg'),\n",
              " PosixPath('datasets/flower_photos/roses/3971662839_5cb2963b20_n.jpg'),\n",
              " PosixPath('datasets/flower_photos/roses/9309388105_12c0b8dd54_m.jpg'),\n",
              " PosixPath('datasets/flower_photos/roses/7525783408_0999483bf4_m.jpg'),\n",
              " PosixPath('datasets/flower_photos/roses/110472418_87b6a3aa98_m.jpg'),\n",
              " PosixPath('datasets/flower_photos/roses/6867597533_d65d1c39fb_n.jpg'),\n",
              " PosixPath('datasets/flower_photos/roses/17305246720_1866d6303b.jpg'),\n",
              " PosixPath('datasets/flower_photos/roses/15802657001_40fe77c030_m.jpg'),\n",
              " PosixPath('datasets/flower_photos/roses/8462246855_1bdfee7478.jpg'),\n",
              " PosixPath('datasets/flower_photos/roses/9404876600_04f6d37685.jpg'),\n",
              " PosixPath('datasets/flower_photos/roses/9167147034_0a66ee3616_n.jpg'),\n",
              " PosixPath('datasets/flower_photos/roses/13279526615_a3b0059bec.jpg'),\n",
              " PosixPath('datasets/flower_photos/roses/2215318403_06eb99176a.jpg'),\n",
              " PosixPath('datasets/flower_photos/roses/9164924345_6b63637acf.jpg'),\n",
              " PosixPath('datasets/flower_photos/roses/15949087094_a8f565295c_m.jpg'),\n",
              " PosixPath('datasets/flower_photos/roses/4654893119_45d232016b.jpg'),\n",
              " PosixPath('datasets/flower_photos/roses/7345657862_689366e79a.jpg'),\n",
              " PosixPath('datasets/flower_photos/roses/1446090416_f0cad5fde4.jpg'),\n",
              " PosixPath('datasets/flower_photos/roses/1540738662_7b4152e344_m.jpg'),\n",
              " PosixPath('datasets/flower_photos/roses/3292434691_392071d702_n.jpg'),\n",
              " PosixPath('datasets/flower_photos/roses/3109712111_75cea2dee6.jpg'),\n",
              " PosixPath('datasets/flower_photos/roses/2122401867_cd86c5f114_n.jpg'),\n",
              " PosixPath('datasets/flower_photos/roses/6158504080_b844a9ae05.jpg'),\n",
              " PosixPath('datasets/flower_photos/roses/14312910041_b747240d56_n.jpg'),\n",
              " PosixPath('datasets/flower_photos/roses/15820572326_be2ea4a55c_n.jpg'),\n",
              " PosixPath('datasets/flower_photos/roses/7147367479_f7a6ef0798.jpg'),\n",
              " PosixPath('datasets/flower_photos/roses/5089363428_2c5a1272ea.jpg'),\n",
              " PosixPath('datasets/flower_photos/roses/2225411981_6638c3e988.jpg'),\n",
              " PosixPath('datasets/flower_photos/roses/7186509956_c37c02fb43_n.jpg'),\n",
              " PosixPath('datasets/flower_photos/roses/3315973481_850d2253e9_n.jpg'),\n",
              " PosixPath('datasets/flower_photos/roses/3630246240_4fee9a33db.jpg'),\n",
              " PosixPath('datasets/flower_photos/roses/3554620445_082dd0bec4_n.jpg'),\n",
              " PosixPath('datasets/flower_photos/roses/410425647_4586667858.jpg'),\n",
              " PosixPath('datasets/flower_photos/roses/22679076_bdb4c24401_m.jpg'),\n",
              " PosixPath('datasets/flower_photos/roses/15011625580_7974c44bce.jpg'),\n",
              " PosixPath('datasets/flower_photos/roses/16316557109_7fc55c1cbc_m.jpg'),\n",
              " PosixPath('datasets/flower_photos/roses/4231745228_ece86330d9.jpg'),\n",
              " PosixPath('datasets/flower_photos/roses/3624546109_8eb98f0cdb.jpg'),\n",
              " PosixPath('datasets/flower_photos/roses/3236806990_a90c7bb520_m.jpg'),\n",
              " PosixPath('datasets/flower_photos/roses/15104537437_f6730b38c3_n.jpg'),\n",
              " PosixPath('datasets/flower_photos/roses/16149016979_23ef42b642_m.jpg'),\n",
              " PosixPath('datasets/flower_photos/roses/921138131_9e1393eb2b_m.jpg'),\n",
              " PosixPath('datasets/flower_photos/roses/5537794501_a0767743fd_n.jpg'),\n",
              " PosixPath('datasets/flower_photos/roses/4910094611_8c7170fc95_n.jpg'),\n",
              " PosixPath('datasets/flower_photos/roses/4503599544_3822e7d1be.jpg'),\n",
              " PosixPath('datasets/flower_photos/roses/14172324538_2147808483_n.jpg'),\n",
              " PosixPath('datasets/flower_photos/roses/2265579414_2e00a8f265_n.jpg'),\n",
              " PosixPath('datasets/flower_photos/roses/2501297526_cbd66a3f7e_m.jpg'),\n",
              " PosixPath('datasets/flower_photos/roses/394990940_7af082cf8d_n.jpg'),\n",
              " PosixPath('datasets/flower_photos/roses/6163179241_f093f45d95_n.jpg'),\n",
              " PosixPath('datasets/flower_photos/roses/14267691818_301aceda07.jpg'),\n",
              " PosixPath('datasets/flower_photos/roses/5570018782_c56bee942f.jpg'),\n",
              " PosixPath('datasets/flower_photos/roses/16545641666_2781e542a0_m.jpg'),\n",
              " PosixPath('datasets/flower_photos/roses/3997609936_8db20b7141_n.jpg'),\n",
              " PosixPath('datasets/flower_photos/roses/6105809987_8f3d7a8d67_n.jpg'),\n",
              " PosixPath('datasets/flower_photos/roses/19271410704_932d1f2c97_n.jpg'),\n",
              " PosixPath('datasets/flower_photos/roses/2888138918_402096c7fb.jpg'),\n",
              " PosixPath('datasets/flower_photos/roses/4396642388_3081a38875_n.jpg'),\n",
              " PosixPath('datasets/flower_photos/roses/3265902330_d8b1e44545.jpg'),\n",
              " PosixPath('datasets/flower_photos/roses/13979889721_42a59ca9fa_m.jpg'),\n",
              " PosixPath('datasets/flower_photos/roses/15821959372_518b9dcf57_n.jpg'),\n",
              " PosixPath('datasets/flower_photos/roses/15236835789_6009b8f33d.jpg'),\n",
              " PosixPath('datasets/flower_photos/roses/16643944275_3cd4cd966c.jpg'),\n",
              " PosixPath('datasets/flower_photos/roses/5180896559_b8cfefc21e.jpg'),\n",
              " PosixPath('datasets/flower_photos/roses/14107161906_5737e0e4ec.jpg'),\n",
              " PosixPath('datasets/flower_photos/roses/7376471712_e1be793f94.jpg'),\n",
              " PosixPath('datasets/flower_photos/roses/102501987_3cdb8e5394_n.jpg'),\n",
              " PosixPath('datasets/flower_photos/roses/5799616059_0ffda02e54.jpg'),\n",
              " PosixPath('datasets/flower_photos/roses/3104672186_5f75647448_n.jpg'),\n",
              " PosixPath('datasets/flower_photos/roses/5073473370_bdbb5a99fc.jpg'),\n",
              " PosixPath('datasets/flower_photos/roses/4860145119_b1c3cbaa4e_n.jpg'),\n",
              " PosixPath('datasets/flower_photos/roses/5979193298_639e877248.jpg'),\n",
              " PosixPath('datasets/flower_photos/roses/5892908233_6756199a43.jpg'),\n",
              " PosixPath('datasets/flower_photos/roses/12045735155_42547ce4e9_n.jpg'),\n",
              " PosixPath('datasets/flower_photos/roses/4998708839_c53ee536a8_n.jpg'),\n",
              " PosixPath('datasets/flower_photos/roses/15509799653_0562d4a4fa.jpg'),\n",
              " PosixPath('datasets/flower_photos/roses/18760363474_a707331322_n.jpg'),\n",
              " PosixPath('datasets/flower_photos/roses/3705716290_cb7d803130_n.jpg'),\n",
              " PosixPath('datasets/flower_photos/roses/8035908422_87220425d2_n.jpg'),\n",
              " PosixPath('datasets/flower_photos/roses/2053476785_c162a3e358.jpg'),\n",
              " PosixPath('datasets/flower_photos/roses/8437935944_aab997560a_n.jpg'),\n",
              " PosixPath('datasets/flower_photos/roses/4809566219_88f9a1aea3.jpg'),\n",
              " PosixPath('datasets/flower_photos/roses/6347846935_51e3dc2481_n.jpg'),\n",
              " PosixPath('datasets/flower_photos/roses/15951588433_c0713cbfc6_m.jpg'),\n",
              " PosixPath('datasets/flower_photos/roses/5273722065_c85d8543c2_m.jpg'),\n",
              " PosixPath('datasets/flower_photos/roses/2607130050_9c34310004.jpg'),\n",
              " PosixPath('datasets/flower_photos/roses/6879112993_5a29208438_n.jpg'),\n",
              " PosixPath('datasets/flower_photos/roses/12243069253_e512464095_n.jpg'),\n",
              " PosixPath('datasets/flower_photos/roses/4684127262_6c3346188d.jpg'),\n",
              " PosixPath('datasets/flower_photos/roses/5777669976_a205f61e5b.jpg')]"
            ]
          },
          "metadata": {},
          "execution_count": 36
        }
      ]
    },
    {
      "cell_type": "code",
      "source": [
        "flowers_labels_dict = {\n",
        "    'roses': 0,\n",
        "    'daisy': 1,\n",
        "    'dandelion': 2,\n",
        "    'sunflowers': 3,\n",
        "    'tulips': 4,\n",
        "}"
      ],
      "metadata": {
        "id": "W34zYU7_EWQw"
      },
      "execution_count": 37,
      "outputs": []
    },
    {
      "cell_type": "code",
      "source": [
        "img = cv2.imread(flower_image_dict['roses'])"
      ],
      "metadata": {
        "colab": {
          "base_uri": "https://localhost:8080/",
          "height": 179
        },
        "id": "5sLNNeBEE25A",
        "outputId": "ebad7ff7-3798-4247-fd8d-db8e9ed8b3d3"
      },
      "execution_count": 38,
      "outputs": [
        {
          "output_type": "error",
          "ename": "TypeError",
          "evalue": "Can't convert object to 'str' for 'filename'",
          "traceback": [
            "\u001b[0;31m---------------------------------------------------------------------------\u001b[0m",
            "\u001b[0;31mTypeError\u001b[0m                                 Traceback (most recent call last)",
            "\u001b[0;32m<ipython-input-38-a59337064490>\u001b[0m in \u001b[0;36m<cell line: 1>\u001b[0;34m()\u001b[0m\n\u001b[0;32m----> 1\u001b[0;31m \u001b[0mimg\u001b[0m \u001b[0;34m=\u001b[0m \u001b[0mcv2\u001b[0m\u001b[0;34m.\u001b[0m\u001b[0mimread\u001b[0m\u001b[0;34m(\u001b[0m\u001b[0mflower_image_dict\u001b[0m\u001b[0;34m[\u001b[0m\u001b[0;34m'roses'\u001b[0m\u001b[0;34m]\u001b[0m\u001b[0;34m)\u001b[0m\u001b[0;34m\u001b[0m\u001b[0;34m\u001b[0m\u001b[0m\n\u001b[0m",
            "\u001b[0;31mTypeError\u001b[0m: Can't convert object to 'str' for 'filename'"
          ]
        }
      ]
    },
    {
      "cell_type": "code",
      "source": [
        "img = cv2.imread(str(flowers_images_dict['roses'][0]))\n",
        "img\n"
      ],
      "metadata": {
        "colab": {
          "base_uri": "https://localhost:8080/"
        },
        "id": "ZG8DG4KzFhjg",
        "outputId": "d981bcf2-633f-4396-97b9-20bf79fa6555"
      },
      "execution_count": 40,
      "outputs": [
        {
          "output_type": "execute_result",
          "data": {
            "text/plain": [
              "array([[[ 38, 127, 201],\n",
              "        [ 34, 128, 201],\n",
              "        [ 40, 124, 206],\n",
              "        ...,\n",
              "        [ 39, 252, 233],\n",
              "        [ 35, 253, 236],\n",
              "        [ 33, 253, 237]],\n",
              "\n",
              "       [[ 43, 135, 206],\n",
              "        [ 36, 131, 200],\n",
              "        [ 31, 119, 196],\n",
              "        ...,\n",
              "        [ 46, 253, 238],\n",
              "        [ 41, 254, 238],\n",
              "        [ 37, 254, 239]],\n",
              "\n",
              "       [[ 30, 125, 198],\n",
              "        [ 40, 134, 207],\n",
              "        [ 39, 124, 204],\n",
              "        ...,\n",
              "        [ 39, 252, 237],\n",
              "        [ 38, 254, 237],\n",
              "        [ 38, 254, 237]],\n",
              "\n",
              "       ...,\n",
              "\n",
              "       [[ 67,  62, 117],\n",
              "        [ 82,  67, 129],\n",
              "        [ 83,  56, 129],\n",
              "        ...,\n",
              "        [ 53,  63, 127],\n",
              "        [ 54,  70, 129],\n",
              "        [ 55,  67, 125]],\n",
              "\n",
              "       [[ 73,  64, 121],\n",
              "        [ 83,  62, 131],\n",
              "        [ 79,  59, 132],\n",
              "        ...,\n",
              "        [ 49,  73, 133],\n",
              "        [ 47,  69, 127],\n",
              "        [ 45,  68, 124]],\n",
              "\n",
              "       [[ 71,  62, 118],\n",
              "        [ 82,  61, 129],\n",
              "        [ 79,  59, 132],\n",
              "        ...,\n",
              "        [ 56,  65, 128],\n",
              "        [ 52,  62, 122],\n",
              "        [ 53,  61, 120]]], dtype=uint8)"
            ]
          },
          "metadata": {},
          "execution_count": 40
        }
      ]
    },
    {
      "cell_type": "code",
      "source": [
        "img.shape"
      ],
      "metadata": {
        "colab": {
          "base_uri": "https://localhost:8080/"
        },
        "id": "-Cq5HRmJFxvK",
        "outputId": "439b9c33-429b-4c6e-905b-eab40ccfd9e1"
      },
      "execution_count": 41,
      "outputs": [
        {
          "output_type": "execute_result",
          "data": {
            "text/plain": [
              "(378, 500, 3)"
            ]
          },
          "metadata": {},
          "execution_count": 41
        }
      ]
    },
    {
      "cell_type": "code",
      "source": [
        "cv2.resize(img,(180,180)).shape"
      ],
      "metadata": {
        "colab": {
          "base_uri": "https://localhost:8080/"
        },
        "id": "qEC29rcRGMXF",
        "outputId": "20b0d848-f91d-4126-a0ee-e4cdf1d6105a"
      },
      "execution_count": 42,
      "outputs": [
        {
          "output_type": "execute_result",
          "data": {
            "text/plain": [
              "(180, 180, 3)"
            ]
          },
          "metadata": {},
          "execution_count": 42
        }
      ]
    },
    {
      "cell_type": "code",
      "source": [
        "X, y = [], []\n",
        "\n",
        "for flower_name, images in flowers_images_dict.items():\n",
        "    for image in images:\n",
        "        img = cv2.imread(str(image))\n",
        "        resized_img = cv2.resize(img,(180,180))\n",
        "        X.append(resized_img)\n",
        "        y.append(flowers_labels_dict[flower_name])"
      ],
      "metadata": {
        "id": "Hc_6kiRWsKwI"
      },
      "execution_count": 43,
      "outputs": []
    },
    {
      "cell_type": "code",
      "source": [
        "X = np.array(X)\n",
        "y = np.array(y)"
      ],
      "metadata": {
        "id": "EY9eqqkCtH4G"
      },
      "execution_count": 44,
      "outputs": []
    },
    {
      "cell_type": "code",
      "source": [
        "from sklearn.model_selection import train_test_split\n",
        "X_train, X_test, y_train, y_test = train_test_split(X,y, random_state=0)"
      ],
      "metadata": {
        "id": "L5KDhou5tR9-"
      },
      "execution_count": 45,
      "outputs": []
    },
    {
      "cell_type": "code",
      "source": [
        "len(X_train)"
      ],
      "metadata": {
        "colab": {
          "base_uri": "https://localhost:8080/"
        },
        "id": "koFZUfYctsG3",
        "outputId": "dde1c178-f2aa-4adf-a214-c8087738c56e"
      },
      "execution_count": 46,
      "outputs": [
        {
          "output_type": "execute_result",
          "data": {
            "text/plain": [
              "2752"
            ]
          },
          "metadata": {},
          "execution_count": 46
        }
      ]
    },
    {
      "cell_type": "code",
      "source": [
        "len(X_test)"
      ],
      "metadata": {
        "colab": {
          "base_uri": "https://localhost:8080/"
        },
        "id": "95rfivHNt0q2",
        "outputId": "ca2d0f64-ba1b-4499-a47e-1ed9e0e4f8fc"
      },
      "execution_count": 47,
      "outputs": [
        {
          "output_type": "execute_result",
          "data": {
            "text/plain": [
              "918"
            ]
          },
          "metadata": {},
          "execution_count": 47
        }
      ]
    },
    {
      "cell_type": "code",
      "source": [
        "X_train_scaled = X_train / 255\n",
        "X_test_scaled = X_test / 255"
      ],
      "metadata": {
        "id": "PqLmh3oWt28s"
      },
      "execution_count": 48,
      "outputs": []
    },
    {
      "cell_type": "code",
      "source": [
        "num_classes = 5\n",
        "\n",
        "model = Sequential([\n",
        "  layers.Conv2D(16, 3, padding='same', activation='relu'),\n",
        "  layers.MaxPooling2D(),\n",
        "  layers.Conv2D(32, 3, padding='same', activation='relu'),\n",
        "  layers.MaxPooling2D(),\n",
        "  layers.Conv2D(64, 3, padding='same', activation='relu'),\n",
        "  layers.MaxPooling2D(),\n",
        "  layers.Flatten(),\n",
        "  layers.Dense(128, activation='relu'),\n",
        "  layers.Dense(num_classes)\n",
        "])\n",
        "\n",
        "model.compile(optimizer='adam',\n",
        "              loss=tf.keras.losses.SparseCategoricalCrossentropy(from_logits=True),\n",
        "              metrics=['accuracy'])\n",
        "\n",
        "model.fit(X_train_scaled, y_train, epochs=30)"
      ],
      "metadata": {
        "colab": {
          "base_uri": "https://localhost:8080/"
        },
        "id": "mQA8OXJIvC5Q",
        "outputId": "b9e9632f-268f-41b2-a61c-70926040da52"
      },
      "execution_count": 49,
      "outputs": [
        {
          "output_type": "stream",
          "name": "stdout",
          "text": [
            "Epoch 1/30\n",
            "86/86 [==============================] - 8s 22ms/step - loss: 1.3777 - accuracy: 0.4182\n",
            "Epoch 2/30\n",
            "86/86 [==============================] - 2s 22ms/step - loss: 0.9351 - accuracy: 0.6424\n",
            "Epoch 3/30\n",
            "86/86 [==============================] - 2s 20ms/step - loss: 0.7158 - accuracy: 0.7384\n",
            "Epoch 4/30\n",
            "86/86 [==============================] - 2s 20ms/step - loss: 0.5088 - accuracy: 0.8176\n",
            "Epoch 5/30\n",
            "86/86 [==============================] - 2s 20ms/step - loss: 0.3035 - accuracy: 0.9055\n",
            "Epoch 6/30\n",
            "86/86 [==============================] - 2s 20ms/step - loss: 0.1454 - accuracy: 0.9528\n",
            "Epoch 7/30\n",
            "86/86 [==============================] - 2s 21ms/step - loss: 0.0858 - accuracy: 0.9771\n",
            "Epoch 8/30\n",
            "86/86 [==============================] - 2s 22ms/step - loss: 0.0603 - accuracy: 0.9829\n",
            "Epoch 9/30\n",
            "86/86 [==============================] - 2s 21ms/step - loss: 0.0516 - accuracy: 0.9855\n",
            "Epoch 10/30\n",
            "86/86 [==============================] - 2s 20ms/step - loss: 0.0455 - accuracy: 0.9895\n",
            "Epoch 11/30\n",
            "86/86 [==============================] - 2s 20ms/step - loss: 0.0209 - accuracy: 0.9967\n",
            "Epoch 12/30\n",
            "86/86 [==============================] - 2s 20ms/step - loss: 0.0087 - accuracy: 0.9975\n",
            "Epoch 13/30\n",
            "86/86 [==============================] - 2s 20ms/step - loss: 0.0063 - accuracy: 0.9989\n",
            "Epoch 14/30\n",
            "86/86 [==============================] - 2s 20ms/step - loss: 0.0013 - accuracy: 1.0000\n",
            "Epoch 15/30\n",
            "86/86 [==============================] - 2s 23ms/step - loss: 6.1709e-04 - accuracy: 1.0000\n",
            "Epoch 16/30\n",
            "86/86 [==============================] - 2s 21ms/step - loss: 4.2514e-04 - accuracy: 1.0000\n",
            "Epoch 17/30\n",
            "86/86 [==============================] - 2s 21ms/step - loss: 3.0846e-04 - accuracy: 1.0000\n",
            "Epoch 18/30\n",
            "86/86 [==============================] - 2s 20ms/step - loss: 2.4504e-04 - accuracy: 1.0000\n",
            "Epoch 19/30\n",
            "86/86 [==============================] - 2s 20ms/step - loss: 2.0909e-04 - accuracy: 1.0000\n",
            "Epoch 20/30\n",
            "86/86 [==============================] - 2s 20ms/step - loss: 1.7771e-04 - accuracy: 1.0000\n",
            "Epoch 21/30\n",
            "86/86 [==============================] - 2s 20ms/step - loss: 1.5418e-04 - accuracy: 1.0000\n",
            "Epoch 22/30\n",
            "86/86 [==============================] - 2s 23ms/step - loss: 1.3647e-04 - accuracy: 1.0000\n",
            "Epoch 23/30\n",
            "86/86 [==============================] - 2s 20ms/step - loss: 1.1928e-04 - accuracy: 1.0000\n",
            "Epoch 24/30\n",
            "86/86 [==============================] - 2s 20ms/step - loss: 1.0651e-04 - accuracy: 1.0000\n",
            "Epoch 25/30\n",
            "86/86 [==============================] - 2s 20ms/step - loss: 9.5605e-05 - accuracy: 1.0000\n",
            "Epoch 26/30\n",
            "86/86 [==============================] - 2s 20ms/step - loss: 8.5904e-05 - accuracy: 1.0000\n",
            "Epoch 27/30\n",
            "86/86 [==============================] - 2s 20ms/step - loss: 7.7821e-05 - accuracy: 1.0000\n",
            "Epoch 28/30\n",
            "86/86 [==============================] - 2s 21ms/step - loss: 7.0878e-05 - accuracy: 1.0000\n",
            "Epoch 29/30\n",
            "86/86 [==============================] - 2s 23ms/step - loss: 6.4424e-05 - accuracy: 1.0000\n",
            "Epoch 30/30\n",
            "86/86 [==============================] - 2s 20ms/step - loss: 5.9039e-05 - accuracy: 1.0000\n"
          ]
        },
        {
          "output_type": "execute_result",
          "data": {
            "text/plain": [
              "<keras.src.callbacks.History at 0x7b6e699bcb20>"
            ]
          },
          "metadata": {},
          "execution_count": 49
        }
      ]
    },
    {
      "cell_type": "code",
      "source": [
        "model.evaluate(X_test_scaled,y_test)\n"
      ],
      "metadata": {
        "colab": {
          "base_uri": "https://localhost:8080/"
        },
        "id": "PG3ijCc3yAOJ",
        "outputId": "6a3b0c3a-b7fe-45d8-f019-1167ddf57f64"
      },
      "execution_count": 50,
      "outputs": [
        {
          "output_type": "stream",
          "name": "stdout",
          "text": [
            "29/29 [==============================] - 1s 22ms/step - loss: 2.7883 - accuracy: 0.6492\n"
          ]
        },
        {
          "output_type": "execute_result",
          "data": {
            "text/plain": [
              "[2.7883212566375732, 0.6492374539375305]"
            ]
          },
          "metadata": {},
          "execution_count": 50
        }
      ]
    },
    {
      "cell_type": "markdown",
      "source": [
        "Here we see that while train accuracy is very high (99%), the test accuracy is significantly low (66.99%) indicating overfitting. Let's make some predictions before we use data augmentation to address overfitting\n",
        "\n"
      ],
      "metadata": {
        "id": "Y3BDqgOkNo_7"
      }
    },
    {
      "cell_type": "code",
      "source": [],
      "metadata": {
        "id": "bCohspDsNgMw"
      },
      "execution_count": null,
      "outputs": []
    }
  ]
}